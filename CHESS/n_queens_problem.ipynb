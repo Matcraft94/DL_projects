{
 "cells": [
  {
   "cell_type": "code",
   "execution_count": 1,
   "metadata": {},
   "outputs": [],
   "source": [
    "import matplotlib.pyplot as plt\n",
    "import numpy as np"
   ]
  },
  {
   "cell_type": "code",
   "execution_count": 2,
   "metadata": {},
   "outputs": [],
   "source": [
    "def is_safe_general(board, row, col, n):\n",
    "    # Check this row on left side\n",
    "    for i in range(col):\n",
    "        if board[row][i] == 1:\n",
    "            return False\n",
    "\n",
    "    # Check upper diagonal on left side\n",
    "    for i, j in zip(range(row, -1, -1), range(col, -1, -1)):\n",
    "        if board[i][j] == 1:\n",
    "            return False\n",
    "\n",
    "    # Check lower diagonal on left side\n",
    "    for i, j in zip(range(row, n, 1), range(col, -1, -1)):\n",
    "        if board[i][j] == 1:\n",
    "            return False\n",
    "\n",
    "    return True"
   ]
  },
  {
   "cell_type": "code",
   "execution_count": 3,
   "metadata": {},
   "outputs": [],
   "source": [
    "def solve_n_queens_general_util(board, col, n):\n",
    "    # Base case: If all queens are placed\n",
    "    if col >= n:\n",
    "        return True\n",
    "\n",
    "    # Consider this column and try placing this queen in all rows one by one\n",
    "    for i in range(n):\n",
    "        if is_safe_general(board, i, col, n):\n",
    "            # Place this queen in board[i][col]\n",
    "            board[i][col] = 1\n",
    "\n",
    "            # Recur to place rest of the queens\n",
    "            if solve_n_queens_general_util(board, col + 1, n):\n",
    "                return True\n",
    "\n",
    "            # If placing queen in board[i][col] doesn't lead to a solution, then\n",
    "            # Remove queen from board[i][col]\n",
    "            board[i][col] = 0\n",
    "\n",
    "    # If the queen cannot be placed in any row in this column col then return false\n",
    "    return False"
   ]
  },
  {
   "cell_type": "code",
   "execution_count": 4,
   "metadata": {},
   "outputs": [],
   "source": [
    "\n",
    "def solve_n_queens_general(n):\n",
    "    board = [[0 for _ in range(n)] for _ in range(n)]\n",
    "\n",
    "    if not solve_n_queens_general_util(board, 0, n):\n",
    "        return \"Solution does not exist\"\n",
    "    return board"
   ]
  },
  {
   "cell_type": "markdown",
   "metadata": {},
   "source": [
    "Example usage for a general number of queens (let's say n=8)"
   ]
  },
  {
   "cell_type": "code",
   "execution_count": 9,
   "metadata": {},
   "outputs": [
    {
     "data": {
      "text/plain": [
       "[[1, 0, 0, 0, 0, 0, 0, 0],\n",
       " [0, 0, 0, 0, 0, 0, 1, 0],\n",
       " [0, 0, 0, 0, 1, 0, 0, 0],\n",
       " [0, 0, 0, 0, 0, 0, 0, 1],\n",
       " [0, 1, 0, 0, 0, 0, 0, 0],\n",
       " [0, 0, 0, 1, 0, 0, 0, 0],\n",
       " [0, 0, 0, 0, 0, 1, 0, 0],\n",
       " [0, 0, 1, 0, 0, 0, 0, 0]]"
      ]
     },
     "execution_count": 9,
     "metadata": {},
     "output_type": "execute_result"
    }
   ],
   "source": [
    "n_queens_solution_general = solve_n_queens_general(8)\n",
    "n_queens_solution_general"
   ]
  },
  {
   "cell_type": "code",
   "execution_count": 10,
   "metadata": {},
   "outputs": [
    {
     "data": {
      "text/plain": [
       "8"
      ]
     },
     "execution_count": 10,
     "metadata": {},
     "output_type": "execute_result"
    }
   ],
   "source": [
    "sum([1 for i in n_queens_solution_general if 1 in i])"
   ]
  },
  {
   "cell_type": "code",
   "execution_count": 15,
   "metadata": {},
   "outputs": [],
   "source": [
    "def plot_chessboard_n_queens(solution):\n",
    "    n = len(solution)\n",
    "    board = np.zeros((n, n))\n",
    "    \n",
    "    # Create the chessboard pattern\n",
    "    board[1::2, ::2] = 1\n",
    "    board[::2, 1::2] = 1\n",
    "\n",
    "    plt.figure(figsize=(6, 6))\n",
    "    plt.imshow(board, cmap='gray', interpolation='nearest')\n",
    "    plt.xticks([]), plt.yticks([])\n",
    "\n",
    "    # Adding queens to the board\n",
    "    for i in range(n):\n",
    "        for j in range(n):\n",
    "            if solution[i][j] == 1:\n",
    "                plt.text(j, i, '♛', fontsize=20, ha='center', va='center', color='blue')\n",
    "\n",
    "    plt.title(f'{n}-Queens Solution on Chessboard')\n",
    "    plt.show()"
   ]
  },
  {
   "cell_type": "code",
   "execution_count": 16,
   "metadata": {},
   "outputs": [
    {
     "data": {
      "image/png": "[encoded data removed]",
      "text/plain": [
       "<Figure size 600x600 with 1 Axes>"
      ]
     },
     "metadata": {},
     "output_type": "display_data"
    }
   ],
   "source": [
    "# Plotting the solution for n_queens_solution_general\n",
    "plot_chessboard_n_queens(n_queens_solution_general)"
   ]
  },
  {
   "cell_type": "code",
   "execution_count": null,
   "metadata": {},
   "outputs": [],
   "source": []
  }
 ],
 "metadata": {
  "kernelspec": {
   "display_name": "math",
   "language": "python",
   "name": "python3"
  },
  "language_info": {
   "codemirror_mode": {
    "name": "ipython",
    "version": 3
   },
   "file_extension": ".py",
   "mimetype": "text/x-python",
   "name": "python",
   "nbconvert_exporter": "python",
   "pygments_lexer": "ipython3",
   "version": "3.10.13"
  }
 },
 "nbformat": 4,
 "nbformat_minor": 2
}
