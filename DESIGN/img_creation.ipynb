{
 "cells": [
  {
   "cell_type": "code",
   "execution_count": 1,
   "metadata": {},
   "outputs": [],
   "source": [
    "from tqdm.notebook import tqdm\n",
    "\n",
    "import numpy as np\n",
    "\n",
    "import cv2\n",
    "\n",
    "import matplotlib.pyplot as plt\n",
    "from matplotlib.animation import FuncAnimation\n",
    "from IPython.display import display, HTML, Video\n",
    "\n",
    "import math\n",
    "\n",
    "import warnings\n",
    "\n",
    "# Suprimir todas las advertencias\n",
    "warnings.simplefilter(\"ignore\")"
   ]
  },
  {
   "cell_type": "code",
   "execution_count": 2,
   "metadata": {},
   "outputs": [],
   "source": [
    "# # Función de paleta en la CPU\n",
    "# def palette(t):\n",
    "#     a = np.array([0.5, 0.5, 0.5])\n",
    "#     b = np.array([0.5, 0.5, 0.5])\n",
    "#     c = np.array([1.0, 1.0, 1.0])\n",
    "#     d = np.array([0.263, 0.416, 0.557])\n",
    "    \n",
    "#     return a + b * np.cos(6.28318 * (c * t + d))"
   ]
  },
  {
   "cell_type": "code",
   "execution_count": 3,
   "metadata": {},
   "outputs": [],
   "source": [
    "def palette(t):\n",
    "    magenta = np.array([0.91, 0.12, 0.39])  # Magenta (superior)\n",
    "    purple = np.array([0.53, 0.19, 0.51])   # Púrpura (medio)\n",
    "    blue = np.array([0.04, 0.31, 0.58])     # Azul (inferior)\n",
    "    \n",
    "    # Interpolar entre los colores basados en el valor de t\n",
    "    if t < 0.5:\n",
    "        return magenta + (purple - magenta) * (t * 2)\n",
    "    else:\n",
    "        return purple + (blue - purple) * ((t - 0.5) * 2)"
   ]
  },
  {
   "cell_type": "code",
   "execution_count": 4,
   "metadata": {},
   "outputs": [],
   "source": [
    "def vectorized_palette(t):\n",
    "    magenta = np.array([0.91, 0.12, 0.39])  # Magenta (superior)\n",
    "    purple = np.array([0.53, 0.19, 0.51])   # Púrpura (medio)\n",
    "    blue = np.array([0.04, 0.31, 0.58])     # Azul (inferior)\n",
    "    \n",
    "    t_shape = t.shape\n",
    "    t = t.ravel()\n",
    "    \n",
    "    result = np.empty((t.size, 3))\n",
    "    mask = t < 0.5\n",
    "    result[mask] = magenta + (purple - magenta) * (t[mask, None] * 2)\n",
    "    result[~mask] = purple + (blue - purple) * ((t[~mask, None] - 0.5) * 2)\n",
    "    \n",
    "    return result.reshape(*t_shape, 3)"
   ]
  },
  {
   "cell_type": "code",
   "execution_count": 5,
   "metadata": {},
   "outputs": [],
   "source": [
    "# Función principal que se ejecutará en la CPU\n",
    "def render(pixels, iTime):\n",
    "    for x in tqdm(range(WIDTH), desc=\"Rendering\", leave=False):\n",
    "        for y in range(HEIGHT):\n",
    "            uv = np.array([(x * 2.0 - WIDTH) / HEIGHT, (y * 2.0 - HEIGHT) / HEIGHT])\n",
    "            uv0 = uv.copy()\n",
    "            finalColor = np.array([0.0, 0.0, 0.0])\n",
    "\n",
    "            for i in range(4):\n",
    "                uv = (uv * 1.5) % 1 - 0.5\n",
    "                d = np.linalg.norm(uv) * np.exp(-np.linalg.norm(uv0))\n",
    "                col = palette(np.linalg.norm(uv0) + i * 0.4 + iTime * 0.4)\n",
    "                d = abs(np.sin(d * 8.0 + iTime) / 8.0)\n",
    "                d = pow(0.01 / d, 1.2)\n",
    "\n",
    "                finalColor += col * d\n",
    "\n",
    "            pixels[x, y] = (finalColor * 255).astype(np.uint8)\n",
    "    return pixels"
   ]
  },
  {
   "cell_type": "code",
   "execution_count": 6,
   "metadata": {},
   "outputs": [],
   "source": [
    "# Función de actualización para la animación\n",
    "def update(frame):\n",
    "    global pixels, iTime\n",
    "    iTime += 0.05\n",
    "    render(pixels, iTime)\n",
    "    im.set_array(pixels)\n",
    "    return im,"
   ]
  },
  {
   "cell_type": "code",
   "execution_count": 7,
   "metadata": {},
   "outputs": [],
   "source": [
    "fps = 30\n",
    "seconds = 15\n",
    "fourcc = cv2.VideoWriter_fourcc(*\"XVID\")\n",
    "WIDTH, HEIGHT = 800, 800\n",
    "# pixels = np.zeros((WIDTH, HEIGHT, 3), dtype=np.uint8)"
   ]
  },
  {
   "cell_type": "code",
   "execution_count": 8,
   "metadata": {},
   "outputs": [],
   "source": [
    "# # Configuración inicial para la animación\n",
    "# fig, ax = plt.subplots(figsize=(8, 8))\n",
    "# pixels = np.zeros((WIDTH, HEIGHT, 3), dtype=np.uint8)\n",
    "# iTime = 0.2\n",
    "# render(pixels, iTime)\n",
    "# im = plt.imshow(pixels, animated=True)\n",
    "\n",
    "# ani = FuncAnimation(fig, update, frames=100, blit=True, interval=50)\n",
    "\n",
    "# # Guardar la animación como un archivo .mp4\n",
    "# ani.save(\"animation.mp4\", writer=\"ffmpeg\", fps=20)\n",
    "\n",
    "# plt.close()"
   ]
  },
  {
   "cell_type": "code",
   "execution_count": 9,
   "metadata": {},
   "outputs": [],
   "source": [
    "# # Para mostrar en el notebook\n",
    "# HTML(ani.to_jshtml())"
   ]
  },
  {
   "cell_type": "code",
   "execution_count": 10,
   "metadata": {},
   "outputs": [],
   "source": [
    "# import dask.array as da\n",
    "\n",
    "# def parallel_vectorized_render(pixels, iTime):\n",
    "#     # Create coordinate grids\n",
    "#     x = da.linspace(0, WIDTH - 1, WIDTH)\n",
    "#     y = da.linspace(0, HEIGHT - 1, HEIGHT)\n",
    "#     xv, yv = da.meshgrid(x, y, sparse=False, indexing='ij')\n",
    "    \n",
    "#     # Calculate uv values\n",
    "#     uv_x = (xv * 2.0 - WIDTH) / HEIGHT\n",
    "#     uv_y = (yv * 2.0 - HEIGHT) / HEIGHT\n",
    "#     uv = da.stack((uv_x, uv_y), axis=-1)\n",
    "#     uv0 = uv.copy()\n",
    "    \n",
    "#     # Initialize finalColor array\n",
    "#     finalColor = da.zeros((WIDTH, HEIGHT, 3))\n",
    "    \n",
    "#     for i in range(4):\n",
    "#         uv = (uv * 1.5) % 1 - 0.5\n",
    "#         d = da.linalg.norm(uv, axis=-1) * da.exp(-da.linalg.norm(uv0, axis=-1))\n",
    "#         col = vectorized_palette(da.linalg.norm(uv0, axis=-1) + i * 0.4 + iTime * 0.4).compute()\n",
    "#         d = da.abs(da.sin(d * 8.0 + iTime) / 8.0)\n",
    "#         d = da.power(0.01 / d, 1.2).reshape(WIDTH, HEIGHT, 1)\n",
    "#         finalColor += col * d\n",
    "        \n",
    "#     pixels[:, :] = (finalColor * 255).astype(np.uint8).compute()\n",
    "#     return pixels\n",
    "\n",
    "# # Test the parallel vectorized render function\n",
    "# parallel_vectorized_render(pixels_test, iTime_test)"
   ]
  },
  {
   "cell_type": "code",
   "execution_count": 11,
   "metadata": {},
   "outputs": [],
   "source": [
    "# from numba import jit, prange\n",
    "\n",
    "# @jit(nopython=True, parallel=True)\n",
    "# def numba_vectorized_render(pixels, iTime):\n",
    "#     # Create coordinate grids\n",
    "#     x = np.linspace(0, WIDTH - 1, WIDTH)\n",
    "#     y = np.linspace(0, HEIGHT - 1, HEIGHT)\n",
    "#     xv, yv = np.meshgrid(x, y, sparse=False, indexing='ij')\n",
    "    \n",
    "#     # Calculate uv values\n",
    "#     uv_x = (xv * 2.0 - WIDTH) / HEIGHT\n",
    "#     uv_y = (yv * 2.0 - HEIGHT) / HEIGHT\n",
    "#     uv = np.stack((uv_x, uv_y), axis=-1)\n",
    "#     uv0 = uv.copy()\n",
    "    \n",
    "#     # Initialize finalColor array\n",
    "#     finalColor = np.zeros((WIDTH, HEIGHT, 3))\n",
    "    \n",
    "#     for i in range(4):\n",
    "#         uv = (uv * 1.5) % 1 - 0.5\n",
    "#         d = np.linalg.norm(uv, axis=-1) * np.exp(-np.linalg.norm(uv0, axis=-1))\n",
    "#         col = vectorized_palette(np.linalg.norm(uv0, axis=-1) + i * 0.4 + iTime * 0.4)\n",
    "#         d = np.abs(np.sin(d * 8.0 + iTime) / 8.0)\n",
    "#         d = np.power(0.01 / d, 1.2).reshape(WIDTH, HEIGHT, 1)\n",
    "#         finalColor += col * d\n",
    "        \n",
    "#     pixels[:, :] = (finalColor * 255).astype(np.uint8)\n",
    "#     return pixels\n",
    "\n",
    "# # Test the numba vectorized render function\n",
    "# numba_vectorized_render(pixels_test, iTime_test)"
   ]
  },
  {
   "cell_type": "code",
   "execution_count": null,
   "metadata": {},
   "outputs": [],
   "source": []
  },
  {
   "cell_type": "code",
   "execution_count": 12,
   "metadata": {},
   "outputs": [],
   "source": [
    "# def vectorized_render(pixels, iTime):\n",
    "#     # Create coordinate grids\n",
    "#     x = np.linspace(0, WIDTH - 1, WIDTH)\n",
    "#     y = np.linspace(0, HEIGHT - 1, HEIGHT)\n",
    "#     xv, yv = np.meshgrid(x, y, sparse=False, indexing='ij')\n",
    "    \n",
    "#     # Calculate uv values\n",
    "#     uv_x = (xv * 2.0 - WIDTH) / HEIGHT\n",
    "#     uv_y = (yv * 2.0 - HEIGHT) / HEIGHT\n",
    "#     uv = np.stack((uv_x, uv_y), axis=-1)\n",
    "#     uv0 = uv.copy()\n",
    "    \n",
    "#     # Initialize finalColor array\n",
    "#     finalColor = np.zeros((WIDTH, HEIGHT, 3))\n",
    "    \n",
    "#     for i in range(4):\n",
    "#         uv = (uv * 1.5) % 1 - 0.5\n",
    "#         d = np.linalg.norm(uv, axis=-1) * np.exp(-np.linalg.norm(uv0, axis=-1))\n",
    "#         col = palette(np.linalg.norm(uv0, axis=-1) + i * 0.4 + iTime * 0.4)\n",
    "#         d = np.abs(np.sin(d * 8.0 + iTime) / 8.0)\n",
    "#         d = np.power(0.01 / d, 1.2).reshape(WIDTH, HEIGHT, 1)\n",
    "#         finalColor += col * d\n",
    "        \n",
    "#     pixels[:, :] = (finalColor * 255).astype(np.uint8)\n",
    "#     return pixelsb"
   ]
  },
  {
   "cell_type": "code",
   "execution_count": 13,
   "metadata": {},
   "outputs": [],
   "source": [
    "def optimized_render(pixels, iTime):\n",
    "    # Same as vectorized_render but uses vectorized_palette\n",
    "    # Create coordinate grids\n",
    "    x = np.linspace(0, WIDTH - 1, WIDTH)\n",
    "    y = np.linspace(0, HEIGHT - 1, HEIGHT)\n",
    "    xv, yv = np.meshgrid(x, y, sparse=False, indexing='ij')\n",
    "    \n",
    "    # Calculate uv values\n",
    "    uv_x = (xv * 2.0 - WIDTH) / HEIGHT\n",
    "    uv_y = (yv * 2.0 - HEIGHT) / HEIGHT\n",
    "    uv = np.stack((uv_x, uv_y), axis=-1)\n",
    "    uv0 = uv.copy()\n",
    "    \n",
    "    # Initialize finalColor array\n",
    "    finalColor = np.zeros((WIDTH, HEIGHT, 3))\n",
    "    \n",
    "    for i in range(4):\n",
    "        uv = (uv * 1.5) % 1 - 0.5\n",
    "        d = np.linalg.norm(uv, axis=-1) * np.exp(-np.linalg.norm(uv0, axis=-1))\n",
    "        col = vectorized_palette(np.linalg.norm(uv0, axis=-1) + i * 0.4 + iTime * 0.4)\n",
    "        d = np.abs(np.sin(d * 8.0 + iTime) / 8.0)\n",
    "        d = np.power(0.01 / d, 1.2).reshape(WIDTH, HEIGHT, 1)\n",
    "        finalColor += col * d\n",
    "        \n",
    "    pixels[:, :] = (finalColor * 255).astype(np.uint8)\n",
    "    return pixels"
   ]
  },
  {
   "cell_type": "code",
   "execution_count": 14,
   "metadata": {},
   "outputs": [],
   "source": [
    "# pixels_test = np.zeros((WIDTH, HEIGHT, 3), dtype=np.uint8)\n",
    "# iTime_test = 0.2\n",
    "\n",
    "# vectorized_render(pixels_test, iTime_test)"
   ]
  },
  {
   "cell_type": "code",
   "execution_count": 15,
   "metadata": {},
   "outputs": [
    {
     "name": "stderr",
     "output_type": "stream",
     "text": [
      "OpenCV: FFMPEG: tag 0x44495658/'XVID' is not supported with codec id 12 and format 'mp4 / MP4 (MPEG-4 Part 14)'\n",
      "OpenCV: FFMPEG: fallback to use tag 0x7634706d/'mp4v'\n"
     ]
    }
   ],
   "source": [
    "# Create video writer object\n",
    "video_writer = cv2.VideoWriter('movie.mp4', fourcc, fps, (WIDTH, HEIGHT))"
   ]
  },
  {
   "cell_type": "code",
   "execution_count": 16,
   "metadata": {},
   "outputs": [],
   "source": [
    "# Generate video frames using the optimized_render function\n",
    "for frame in range(fps * seconds):\n",
    "    iTime = frame / fps\n",
    "    pixels = np.zeros((WIDTH, HEIGHT, 3), dtype=np.uint8)\n",
    "    optimized_render(pixels, iTime)\n",
    "    video_writer.write(pixels)\n",
    "\n",
    "# Release video writer object\n",
    "video_writer.release()"
   ]
  },
  {
   "cell_type": "code",
   "execution_count": 17,
   "metadata": {},
   "outputs": [
    {
     "data": {
      "text/html": [
       "<video src=\"movie.mp4\" controls  >\n",
       "      Your browser does not support the <code>video</code> element.\n",
       "    </video>"
      ],
      "text/plain": [
       "<IPython.core.display.Video object>"
      ]
     },
     "metadata": {},
     "output_type": "display_data"
    }
   ],
   "source": [
    "# Display the video in the notebook\n",
    "display(Video('movie.mp4'))"
   ]
  }
 ],
 "metadata": {
  "kernelspec": {
   "display_name": "TORCH-venv",
   "language": "python",
   "name": "python3"
  },
  "language_info": {
   "codemirror_mode": {
    "name": "ipython",
    "version": 3
   },
   "file_extension": ".py",
   "mimetype": "text/x-python",
   "name": "python",
   "nbconvert_exporter": "python",
   "pygments_lexer": "ipython3",
   "version": "3.9.18"
  },
  "orig_nbformat": 4
 },
 "nbformat": 4,
 "nbformat_minor": 2
}
